{
 "cells": [
  {
   "cell_type": "code",
   "execution_count": 1,
   "id": "8aedb3c5",
   "metadata": {},
   "outputs": [],
   "source": [
    "import plotly.graph_objects as go\n",
    "import plotly.io as pio\n",
    "import numpy as np\n",
    "import uproot\n",
    "import os\n",
    "import kaleido"
   ]
  },
  {
   "cell_type": "code",
   "execution_count": 2,
   "id": "9d0da2ca",
   "metadata": {},
   "outputs": [
    {
     "name": "stdout",
     "output_type": "stream",
     "text": [
      "go is already imported.\n",
      "pio is already imported.\n",
      "np is already imported.\n",
      "uproot is already imported.\n",
      "os is already imported.\n",
      "kaleido is already imported.\n"
     ]
    }
   ],
   "source": [
    "import importlib\n",
    "\n",
    "# List of packages to import\n",
    "packages_to_import = [\n",
    "    (\"plotly\", \"plotly.graph_objects\", \"go\"),\n",
    "    (\"plotly\", \"plotly.io\", \"pio\"),\n",
    "    (\"numpy\", \"numpy\", \"np\"),\n",
    "    (\"uproot\", \"uproot\", \"uproot\"),\n",
    "    (\"os\", \"os\", \"os\"),\n",
    "    (\"kaleido\", \"kaleido\", \"kaleido\")\n",
    "]\n",
    "\n",
    "# Loop through the packages and check if they are imported\n",
    "for package_name, module_name, alias in packages_to_import:\n",
    "    try:\n",
    "        module = importlib.import_module(module_name)\n",
    "        print(f\"{alias} is already imported.\")\n",
    "    except ImportError:\n",
    "        print(f\"{alias} is not imported. Installing...\")\n",
    "        !pip install {package_name}"
   ]
  },
  {
   "cell_type": "code",
   "execution_count": 3,
   "id": "30319900",
   "metadata": {},
   "outputs": [],
   "source": [
    "def lego3D(x_position, y_position, counts, title='', x_title='x position', y_title='y position', z_title='counts',\n",
    "           width=900, height=900, thickness=0.4, colorscale='jet', **kwargs):\n",
    "    '''\n",
    "    Create a 3D LEGO bar plot using Plotly (similar to ROOT)\n",
    "    \n",
    "    :param x_position: Array of x positions for the detectors.\n",
    "    :param y_position: Array of y positions for the detectors.\n",
    "    :param counts: Array of counts for each detector.\n",
    "    :param title: Chart title.\n",
    "    :param x_title: X-axis title.\n",
    "    :param y_title: Y-axis title.\n",
    "    :param z_title: Z-axis title.\n",
    "    :param width: Chart width in pixels.\n",
    "    :param height: Chart height in pixels.\n",
    "    :param thickness: Bar thickness (0; 1).\n",
    "    :param colorscale: Color scale for the plot.\n",
    "    :param **kwargs: Additional keyword arguments for Plotly Mesh3d trace.\n",
    "    :return: 3D LEGO figure.\n",
    "    '''\n",
    "    \n",
    "    # Create an empty figure to add traces to\n",
    "    fig = go.Figure()\n",
    "\n",
    "    # Loop through each detector position and count\n",
    "    for iz, count in enumerate(counts):\n",
    "        x_pos, y_pos = x_position[iz], y_position[iz]\n",
    "        x_min, y_min = x_pos - thickness, y_pos - thickness\n",
    "        x_max, y_max = x_pos + thickness, y_pos + thickness\n",
    "\n",
    "        # Add a Mesh3d trace for each pixel\n",
    "        fig.add_trace(go.Mesh3d(\n",
    "            x=[x_min, x_min, x_max, x_max, x_min, x_min, x_max, x_max],\n",
    "            y=[y_min, y_max, y_max, y_min, y_min, y_max, y_max, y_min],\n",
    "            z=[-0.1, -0.1, -0.1, -0.1, count, count, count, count],\n",
    "            alphahull=0,\n",
    "            intensity=[0, 0, 0, 0, count, count, count, count],\n",
    "            coloraxis='coloraxis',\n",
    "            hoverinfo='text',\n",
    "            hovertext=f'x: {x_pos}<br>y: {y_pos}<br>z: {count}', **kwargs))\n",
    "    camera_params = dict(\n",
    "    eye=dict(x=1.5, y=1.5, z=1.5),\n",
    "    center=dict(x=0, y=0, z=0),\n",
    "    up=dict(x=0, y=0, z=1))\n",
    "    fig.update_layout(scene_camera=camera_params)\n",
    "    # Update the layout of the figure\n",
    "    fig.update_layout(\n",
    "        width=width, height=height,\n",
    "        title=title, title_x=0.5,\n",
    "        scene=dict(\n",
    "            xaxis=dict(title=x_title, tickvals=x_position, ticktext=x_position),\n",
    "            yaxis=dict(title=y_title, tickvals=y_position, ticktext=y_position),\n",
    "            zaxis=dict(title=z_title)),\n",
    "        coloraxis=dict(\n",
    "            colorscale=colorscale,\n",
    "            colorbar=dict(\n",
    "                title=dict(\n",
    "                    text=z_title,\n",
    "                    side='right'),\n",
    "                xanchor='right', x=1.0,\n",
    "                xpad=0,\n",
    "                ticks='inside')),\n",
    "        legend=dict(\n",
    "            yanchor='top', y=1.0,\n",
    "            xanchor='left', x=0.0,\n",
    "            bgcolor='rgba(0, 0, 0, 0)',\n",
    "            itemclick=False,\n",
    "            itemdoubleclick=False),\n",
    "        showlegend=True)\n",
    " \n",
    "    return fig"
   ]
  },
  {
   "cell_type": "code",
   "execution_count": 4,
   "id": "7008fab5",
   "metadata": {},
   "outputs": [],
   "source": [
    "def read_data(filename = 'simTe7MeV_pgData.csv'):\n",
    "    file_extension = os.path.splitext(filename)[-1].lower()\n",
    "    if file_extension == '.csv':\n",
    "        data = np.loadtxt(filename, delimiter=\",\", skiprows=1)\n",
    "        x = data[:,0]\n",
    "        y = data[:,1]\n",
    "        z = data[:,2]\n",
    "    elif file_extension == '.root':\n",
    "        # Open the ROOT file\n",
    "        root_file = uproot.open(filename)\n",
    "        # Get the first key (tree name) in the ROOT file\n",
    "        tree_name = root_file.keys()[0]\n",
    "        tree = root_file[tree_name]\n",
    "        # Assuming you have branches named 'x', 'y', and 'z' in your ROOT tree\n",
    "        x = tree[\"x\"].array()\n",
    "        y = tree[\"y\"].array()\n",
    "        z = tree[\"z\"].array()\n",
    "    else:\n",
    "        print('Wrong filename')\n",
    "    return x,y,z"
   ]
  },
  {
   "cell_type": "code",
   "execution_count": 5,
   "id": "6056b5e2",
   "metadata": {},
   "outputs": [
    {
     "ename": "OSError",
     "evalue": "simTe7MeV_pgData.csv not found.",
     "output_type": "error",
     "traceback": [
      "\u001b[0;31m---------------------------------------------------------------------------\u001b[0m",
      "\u001b[0;31mOSError\u001b[0m                                   Traceback (most recent call last)",
      "\u001b[0;32m/tmp/ipykernel_100253/2706302595.py\u001b[0m in \u001b[0;36m<cell line: 1>\u001b[0;34m()\u001b[0m\n\u001b[0;32m----> 1\u001b[0;31m \u001b[0mx\u001b[0m\u001b[0;34m,\u001b[0m\u001b[0my\u001b[0m\u001b[0;34m,\u001b[0m\u001b[0mz\u001b[0m \u001b[0;34m=\u001b[0m \u001b[0mread_data\u001b[0m\u001b[0;34m(\u001b[0m\u001b[0mfilename\u001b[0m \u001b[0;34m=\u001b[0m \u001b[0;34m'simTe7MeV_pgData.csv'\u001b[0m\u001b[0;34m)\u001b[0m\u001b[0;34m\u001b[0m\u001b[0;34m\u001b[0m\u001b[0m\n\u001b[0m\u001b[1;32m      2\u001b[0m \u001b[0mfig\u001b[0m \u001b[0;34m=\u001b[0m \u001b[0mlego3D\u001b[0m\u001b[0;34m(\u001b[0m\u001b[0mx\u001b[0m\u001b[0;34m,\u001b[0m\u001b[0my\u001b[0m\u001b[0;34m,\u001b[0m\u001b[0mz\u001b[0m\u001b[0;34m,\u001b[0m\u001b[0mcolorscale\u001b[0m\u001b[0;34m=\u001b[0m\u001b[0;34m'jet'\u001b[0m\u001b[0;34m,\u001b[0m \u001b[0mopacity\u001b[0m\u001b[0;34m=\u001b[0m\u001b[0;36m0.9\u001b[0m\u001b[0;34m,\u001b[0m \u001b[0mflatshading\u001b[0m\u001b[0;34m=\u001b[0m\u001b[0;32mTrue\u001b[0m\u001b[0;34m,\u001b[0m \u001b[0mthickness\u001b[0m \u001b[0;34m=\u001b[0m \u001b[0;36m0.14\u001b[0m\u001b[0;34m)\u001b[0m\u001b[0;34m\u001b[0m\u001b[0;34m\u001b[0m\u001b[0m\n\u001b[1;32m      3\u001b[0m \u001b[0;31m#pio.write_image(fig, 'legoplot.pdf',scale=6, width=1080, height=1080) #for saving\u001b[0m\u001b[0;34m\u001b[0m\u001b[0;34m\u001b[0m\u001b[0m\n\u001b[1;32m      4\u001b[0m \u001b[0mfig\u001b[0m\u001b[0;34m.\u001b[0m\u001b[0mshow\u001b[0m\u001b[0;34m(\u001b[0m\u001b[0;34m)\u001b[0m\u001b[0;34m\u001b[0m\u001b[0;34m\u001b[0m\u001b[0m\n",
      "\u001b[0;32m/tmp/ipykernel_100253/39157380.py\u001b[0m in \u001b[0;36mread_data\u001b[0;34m(filename)\u001b[0m\n\u001b[1;32m      2\u001b[0m     \u001b[0mfile_extension\u001b[0m \u001b[0;34m=\u001b[0m \u001b[0mos\u001b[0m\u001b[0;34m.\u001b[0m\u001b[0mpath\u001b[0m\u001b[0;34m.\u001b[0m\u001b[0msplitext\u001b[0m\u001b[0;34m(\u001b[0m\u001b[0mfilename\u001b[0m\u001b[0;34m)\u001b[0m\u001b[0;34m[\u001b[0m\u001b[0;34m-\u001b[0m\u001b[0;36m1\u001b[0m\u001b[0;34m]\u001b[0m\u001b[0;34m.\u001b[0m\u001b[0mlower\u001b[0m\u001b[0;34m(\u001b[0m\u001b[0;34m)\u001b[0m\u001b[0;34m\u001b[0m\u001b[0;34m\u001b[0m\u001b[0m\n\u001b[1;32m      3\u001b[0m     \u001b[0;32mif\u001b[0m \u001b[0mfile_extension\u001b[0m \u001b[0;34m==\u001b[0m \u001b[0;34m'.csv'\u001b[0m\u001b[0;34m:\u001b[0m\u001b[0;34m\u001b[0m\u001b[0;34m\u001b[0m\u001b[0m\n\u001b[0;32m----> 4\u001b[0;31m         \u001b[0mdata\u001b[0m \u001b[0;34m=\u001b[0m \u001b[0mnp\u001b[0m\u001b[0;34m.\u001b[0m\u001b[0mloadtxt\u001b[0m\u001b[0;34m(\u001b[0m\u001b[0mfilename\u001b[0m\u001b[0;34m,\u001b[0m \u001b[0mdelimiter\u001b[0m\u001b[0;34m=\u001b[0m\u001b[0;34m\",\"\u001b[0m\u001b[0;34m,\u001b[0m \u001b[0mskiprows\u001b[0m\u001b[0;34m=\u001b[0m\u001b[0;36m1\u001b[0m\u001b[0;34m)\u001b[0m\u001b[0;34m\u001b[0m\u001b[0;34m\u001b[0m\u001b[0m\n\u001b[0m\u001b[1;32m      5\u001b[0m         \u001b[0mx\u001b[0m \u001b[0;34m=\u001b[0m \u001b[0mdata\u001b[0m\u001b[0;34m[\u001b[0m\u001b[0;34m:\u001b[0m\u001b[0;34m,\u001b[0m\u001b[0;36m0\u001b[0m\u001b[0;34m]\u001b[0m\u001b[0;34m\u001b[0m\u001b[0;34m\u001b[0m\u001b[0m\n\u001b[1;32m      6\u001b[0m         \u001b[0my\u001b[0m \u001b[0;34m=\u001b[0m \u001b[0mdata\u001b[0m\u001b[0;34m[\u001b[0m\u001b[0;34m:\u001b[0m\u001b[0;34m,\u001b[0m\u001b[0;36m1\u001b[0m\u001b[0;34m]\u001b[0m\u001b[0;34m\u001b[0m\u001b[0;34m\u001b[0m\u001b[0m\n",
      "\u001b[0;32m~/anaconda3/envs/analysis_env/lib/python3.10/site-packages/numpy/lib/npyio.py\u001b[0m in \u001b[0;36mloadtxt\u001b[0;34m(fname, dtype, comments, delimiter, converters, skiprows, usecols, unpack, ndmin, encoding, max_rows, like)\u001b[0m\n\u001b[1;32m   1065\u001b[0m             \u001b[0mfname\u001b[0m \u001b[0;34m=\u001b[0m \u001b[0mos_fspath\u001b[0m\u001b[0;34m(\u001b[0m\u001b[0mfname\u001b[0m\u001b[0;34m)\u001b[0m\u001b[0;34m\u001b[0m\u001b[0;34m\u001b[0m\u001b[0m\n\u001b[1;32m   1066\u001b[0m         \u001b[0;32mif\u001b[0m \u001b[0m_is_string_like\u001b[0m\u001b[0;34m(\u001b[0m\u001b[0mfname\u001b[0m\u001b[0;34m)\u001b[0m\u001b[0;34m:\u001b[0m\u001b[0;34m\u001b[0m\u001b[0;34m\u001b[0m\u001b[0m\n\u001b[0;32m-> 1067\u001b[0;31m             \u001b[0mfh\u001b[0m \u001b[0;34m=\u001b[0m \u001b[0mnp\u001b[0m\u001b[0;34m.\u001b[0m\u001b[0mlib\u001b[0m\u001b[0;34m.\u001b[0m\u001b[0m_datasource\u001b[0m\u001b[0;34m.\u001b[0m\u001b[0mopen\u001b[0m\u001b[0;34m(\u001b[0m\u001b[0mfname\u001b[0m\u001b[0;34m,\u001b[0m \u001b[0;34m'rt'\u001b[0m\u001b[0;34m,\u001b[0m \u001b[0mencoding\u001b[0m\u001b[0;34m=\u001b[0m\u001b[0mencoding\u001b[0m\u001b[0;34m)\u001b[0m\u001b[0;34m\u001b[0m\u001b[0;34m\u001b[0m\u001b[0m\n\u001b[0m\u001b[1;32m   1068\u001b[0m             \u001b[0mfencoding\u001b[0m \u001b[0;34m=\u001b[0m \u001b[0mgetattr\u001b[0m\u001b[0;34m(\u001b[0m\u001b[0mfh\u001b[0m\u001b[0;34m,\u001b[0m \u001b[0;34m'encoding'\u001b[0m\u001b[0;34m,\u001b[0m \u001b[0;34m'latin1'\u001b[0m\u001b[0;34m)\u001b[0m\u001b[0;34m\u001b[0m\u001b[0;34m\u001b[0m\u001b[0m\n\u001b[1;32m   1069\u001b[0m             \u001b[0mfh\u001b[0m \u001b[0;34m=\u001b[0m \u001b[0miter\u001b[0m\u001b[0;34m(\u001b[0m\u001b[0mfh\u001b[0m\u001b[0;34m)\u001b[0m\u001b[0;34m\u001b[0m\u001b[0;34m\u001b[0m\u001b[0m\n",
      "\u001b[0;32m~/anaconda3/envs/analysis_env/lib/python3.10/site-packages/numpy/lib/_datasource.py\u001b[0m in \u001b[0;36mopen\u001b[0;34m(path, mode, destpath, encoding, newline)\u001b[0m\n\u001b[1;32m    191\u001b[0m \u001b[0;34m\u001b[0m\u001b[0m\n\u001b[1;32m    192\u001b[0m     \u001b[0mds\u001b[0m \u001b[0;34m=\u001b[0m \u001b[0mDataSource\u001b[0m\u001b[0;34m(\u001b[0m\u001b[0mdestpath\u001b[0m\u001b[0;34m)\u001b[0m\u001b[0;34m\u001b[0m\u001b[0;34m\u001b[0m\u001b[0m\n\u001b[0;32m--> 193\u001b[0;31m     \u001b[0;32mreturn\u001b[0m \u001b[0mds\u001b[0m\u001b[0;34m.\u001b[0m\u001b[0mopen\u001b[0m\u001b[0;34m(\u001b[0m\u001b[0mpath\u001b[0m\u001b[0;34m,\u001b[0m \u001b[0mmode\u001b[0m\u001b[0;34m,\u001b[0m \u001b[0mencoding\u001b[0m\u001b[0;34m=\u001b[0m\u001b[0mencoding\u001b[0m\u001b[0;34m,\u001b[0m \u001b[0mnewline\u001b[0m\u001b[0;34m=\u001b[0m\u001b[0mnewline\u001b[0m\u001b[0;34m)\u001b[0m\u001b[0;34m\u001b[0m\u001b[0;34m\u001b[0m\u001b[0m\n\u001b[0m\u001b[1;32m    194\u001b[0m \u001b[0;34m\u001b[0m\u001b[0m\n\u001b[1;32m    195\u001b[0m \u001b[0;34m\u001b[0m\u001b[0m\n",
      "\u001b[0;32m~/anaconda3/envs/analysis_env/lib/python3.10/site-packages/numpy/lib/_datasource.py\u001b[0m in \u001b[0;36mopen\u001b[0;34m(self, path, mode, encoding, newline)\u001b[0m\n\u001b[1;32m    531\u001b[0m                                       encoding=encoding, newline=newline)\n\u001b[1;32m    532\u001b[0m         \u001b[0;32melse\u001b[0m\u001b[0;34m:\u001b[0m\u001b[0;34m\u001b[0m\u001b[0;34m\u001b[0m\u001b[0m\n\u001b[0;32m--> 533\u001b[0;31m             \u001b[0;32mraise\u001b[0m \u001b[0mIOError\u001b[0m\u001b[0;34m(\u001b[0m\u001b[0;34m\"%s not found.\"\u001b[0m \u001b[0;34m%\u001b[0m \u001b[0mpath\u001b[0m\u001b[0;34m)\u001b[0m\u001b[0;34m\u001b[0m\u001b[0;34m\u001b[0m\u001b[0m\n\u001b[0m\u001b[1;32m    534\u001b[0m \u001b[0;34m\u001b[0m\u001b[0m\n\u001b[1;32m    535\u001b[0m \u001b[0;34m\u001b[0m\u001b[0m\n",
      "\u001b[0;31mOSError\u001b[0m: simTe7MeV_pgData.csv not found."
     ]
    }
   ],
   "source": [
    "x,y,z = read_data(filename = 'simTe7MeV_pgData.csv')\n",
    "fig = lego3D(x,y,z,colorscale='jet', opacity=0.9, flatshading=True, thickness = 0.14)\n",
    "#pio.write_image(fig, 'legoplot.pdf',scale=6, width=1080, height=1080) #for saving\n",
    "fig.show()\n"
   ]
  },
  {
   "cell_type": "code",
   "execution_count": null,
   "id": "53bf5ba0",
   "metadata": {},
   "outputs": [],
   "source": []
  }
 ],
 "metadata": {
  "kernelspec": {
   "display_name": "Python 3 (ipykernel)",
   "language": "python",
   "name": "python3"
  },
  "language_info": {
   "codemirror_mode": {
    "name": "ipython",
    "version": 3
   },
   "file_extension": ".py",
   "mimetype": "text/x-python",
   "name": "python",
   "nbconvert_exporter": "python",
   "pygments_lexer": "ipython3",
   "version": "3.10.4"
  }
 },
 "nbformat": 4,
 "nbformat_minor": 5
}
